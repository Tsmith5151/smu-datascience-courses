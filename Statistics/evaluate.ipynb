{
 "cells": [
  {
   "cell_type": "markdown",
   "metadata": {},
   "source": [
    "### Evaluate Model from SAS"
   ]
  },
  {
   "cell_type": "code",
   "execution_count": 54,
   "metadata": {
    "collapsed": false
   },
   "outputs": [],
   "source": [
    "import pandas as pd\n",
    "import numpy as np \n",
    "from sklearn.metrics import r2_score\n",
    "\n",
    "#enter file name here:\n",
    "\n",
    "fname = 'data/test_pred_eval.csv'"
   ]
  },
  {
   "cell_type": "code",
   "execution_count": 55,
   "metadata": {
    "collapsed": false
   },
   "outputs": [
    {
     "name": "stdout",
     "output_type": "stream",
     "text": [
      "Mean Absolute Error: 2479.70\n",
      "Mean Squared Error: 2161954208.70\n",
      "Root Squared Error: 46496.82\n",
      "Log Root Mean Squared Error: 0.19735\n",
      "R^2: 0.646\n"
     ]
    }
   ],
   "source": [
    "def model_summary(fname):\n",
    "    df_y = pd.read_csv(fname,sep=\",\",names=['ID','True','Pred'],header=0)\n",
    "    \n",
    "    #Residuals\n",
    "    df_y['residuals'] = df_y['True'] - df_y['Pred']\n",
    "    \n",
    "    #Squared Residuals\n",
    "    df_y['residuals_square'] = (df_y['True'] - df_y['Pred'])**2\n",
    "    \n",
    "    #Kaggle Evaluation\n",
    "    df_y['residuals_square_log'] = (np.log(df_y['True']) - np.log(df_y['Pred']))**2\n",
    "    \n",
    "    #MAE,MSE,Log_MSE\n",
    "    MAE = abs(sum(df_y['residuals'])/ len(df_y))\n",
    "    MSE = abs(sum(df_y['residuals_square']) / len(df_y))\n",
    "    Log_MSE =  abs(sum(df_y['residuals_square_log']) / len(df_y))\n",
    "    \n",
    "    print(\"Mean Absolute Error: {0:.2f}\".format(MAE))\n",
    "    print(\"Mean Squared Error: {0:.2f}\".format(MSE))\n",
    "    print(\"Root Squared Error: {0:.2f}\".format(np.sqrt(MSE)))\n",
    "    print(\"Log Root Mean Squared Error: {0:.5f}\".format(np.sqrt(Log_MSE)))\n",
    "    \n",
    "    print(\"R^2: {0:.3f}\".format(r2_score(df_y['True'],df_y['Pred'])))\n",
    "    \n",
    "\n",
    "model_summary(fname)"
   ]
  },
  {
   "cell_type": "code",
   "execution_count": null,
   "metadata": {
    "collapsed": true
   },
   "outputs": [],
   "source": []
  },
  {
   "cell_type": "code",
   "execution_count": null,
   "metadata": {
    "collapsed": true
   },
   "outputs": [],
   "source": []
  }
 ],
 "metadata": {
  "kernelspec": {
   "display_name": "Python [conda root]",
   "language": "python",
   "name": "conda-root-py"
  },
  "language_info": {
   "codemirror_mode": {
    "name": "ipython",
    "version": 3
   },
   "file_extension": ".py",
   "mimetype": "text/x-python",
   "name": "python",
   "nbconvert_exporter": "python",
   "pygments_lexer": "ipython3",
   "version": "3.5.2"
  }
 },
 "nbformat": 4,
 "nbformat_minor": 1
}
