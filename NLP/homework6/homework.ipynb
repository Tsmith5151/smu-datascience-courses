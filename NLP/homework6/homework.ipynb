{
 "cells": [
  {
   "cell_type": "markdown",
   "metadata": {},
   "source": [
    "## MSDS: 7337 - Natural Language Processing\n",
    "**Author: Trace Smith**\n",
    "**Homework Assignment: 6**\n",
    "________"
   ]
  },
  {
   "cell_type": "code",
   "execution_count": 43,
   "metadata": {},
   "outputs": [
    {
     "name": "stdout",
     "output_type": "stream",
     "text": [
      "Seaborn 0.7.1\n",
      "Matplitlib 1.5.3\n",
      "Sklearn 0.20.3\n"
     ]
    }
   ],
   "source": [
    "# Python Libraries\n",
    "import seaborn as sns;print(\"Seaborn\",sns.__version__)\n",
    "import matplotlib; print(\"Matplitlib\",matplotlib.__version__)\n",
    "import matplotlib.pyplot as plt\n",
    "import sklearn;print('Sklearn',sklearn.__version__)\n",
    "from sklearn.metrics.pairwise import cosine_similarity\n",
    "from sklearn.feature_extraction.text import TfidfVectorizer\n",
    "\n",
    "%matplotlib inline"
   ]
  },
  {
   "cell_type": "markdown",
   "metadata": {},
   "source": [
    "#1 **Evaluate text similarity of Amazon book search results by doing the following:** \n",
    "- a. Do a book search on Amazon. Manually copy the full book title (including subtitle) of each of the top 24 books listed in the first two pages of search results. \n",
    "- b. In Python, run one of the text-similarity measures covered in this course, e.g., cosine similarity. Compare each of the book titles, pairwise, to every other one. Which two titles are the most similar to each other? Which are the most dissimilar? - Where do they rank, among the first 24 results?"
   ]
  },
  {
   "cell_type": "code",
   "execution_count": 48,
   "metadata": {},
   "outputs": [],
   "source": [
    "# Amazon Best Sellers of 2018\n",
    "books = [\n",
    "\"Becoming\",\n",
    "\"Girl, Wash Your Face: Stop Believing the Lies About Who You Are so You Can Become Who You Were Meant to Be\",\n",
    "\"The Wonky Donkey\",\n",
    "\"Fire and Fury: Inside the Trump White House\",\n",
    "\"Fear: Trump in the White House\",\n",
    "\"Last Week Tonight with John Oliver Presents A Day in the Life of Marlon Bundo (Better Bundo Book, LGBT Children's Book)\",\n",
    "\"12 Rules for Life: An Antidote to Chaos\",\n",
    "\"Magnolia Table: A Collection of Recipes for Gathering\",\n",
    "\"Whose Boat Is This Boat?: Comments That Don't Help in the Aftermath of a Hurricane\",\n",
    "\"The Subtle Art of Not Giving: A Counterintuitive Approach to Living a Good Life\",\n",
    "\"A Higher Loyalty: Truth, Lies, and Leadership\",\n",
    "\"The Complete Ketogenic Diet for Beginners: Your Essential Guide to Living the Keto Lifestyle\",\n",
    "\"Diary of a Wimpy Kid #13: Meltdown\",\n",
    "\"The 5 Love Languages: The Secret to Love that Lasts\",\n",
    "\"First 100 Words\",\n",
    "\"Dog Man: Lord of the Fleas: From the Creator of Captain Underpants (Dog Man #5)\",\n",
    "\"Educated: A Memoir\",\n",
    "\"You Are a: How to Stop Doubting Your Greatness and Start Living an Awesome Life\",\n",
    "\"The Plant Paradox: The Hidden Dangers in 'Healthy' Foods That Cause Disease and Weight Gain\",\n",
    "\"Giraffes Can't Dance\",\n",
    "\"Player's Handbook (Dungeons & Dragons)\",\n",
    "\"Homebody: A Guide to Creating Spaces You Never Want to Leave\",\n",
    "\"The Very Hungry Caterpillar\",\n",
    "\"Crazy Rich Asians (Crazy Rich Asians Trilogy)\"\n",
    "]"
   ]
  },
  {
   "cell_type": "code",
   "execution_count": 92,
   "metadata": {},
   "outputs": [],
   "source": [
    "def pairwise_plot(s):\n",
    "\n",
    "    fig,ax = plt.subplots(figsize=(10,6))\n",
    "    ax = sns.heatmap(s,cmap=\"Blues\",vmin=0, vmax=0.50)\n",
    "    ax.set_xlabel('Books')\n",
    "    ax.set_ylabel('Books')\n",
    "    ax.set_title('Cosine Similarity Matrix',fontsize=24)    \n",
    "    \n",
    "def get_tfidf(input):\n",
    "    tokenize = lambda doc: doc.lower().split(\" \")\n",
    "    sklearn_tfidf = TfidfVectorizer(norm='l2',\n",
    "                                min_df=0, \n",
    "                                use_idf=True, \n",
    "                                smooth_idf=False, \n",
    "                                sublinear_tf=True, \n",
    "                                tokenizer=tokenize)\n",
    "    tfidf = sklearn_tfidf.fit_transform(input)\n",
    "    return tfidf\n",
    "\n",
    "if __name__ == '__main__':\n",
    "    \n",
    "    tfidf = get_tfidf(books)\n",
    "    s = cosine_similarity(tfidf,tfidf)"
   ]
  },
  {
   "cell_type": "code",
   "execution_count": 93,
   "metadata": {},
   "outputs": [
    {
     "data": {
      "image/png": "[encoded data removed]",
      "text/plain": [
       "<matplotlib.figure.Figure at 0x12b6d19e8>"
      ]
     },
     "metadata": {},
     "output_type": "display_data"
    }
   ],
   "source": [
    "pairwise_plot(s)"
   ]
  },
  {
   "attachments": {},
   "cell_type": "markdown",
   "metadata": {},
   "source": [
    "For this question, we will take a look at computing the cosine similarity to determine how similar or dissimilar the top 2018 books ranked on Amazon. Cosine similarity calculates similarity by measuring the cosine of angle between two vectors.\n",
    "\n",
    "In the heatmap plot above, we can see that the two books which are the most similar are \"Fire and Fury: Inside the Trump White House\" and \"Fear: Trump in the White House\". The cosine similarity for these two books are 0.49. On the other hand, there are quite a few books that are not similar and thus have a cosine similarity of zero, for instance: \"The Very Hungry Caterpillar\" and \"Becoming\". In terms of ranking, the most similar books are #4 and #5 while one of the most dissimilar books is ranked #1 and #23, respectively. "
   ]
  },
  {
   "cell_type": "markdown",
   "metadata": {},
   "source": [
    "** 2.) Now evaluate using a major search engine.**\n",
    "- a.\tEnter one of the book titles from question 1a into Google, Bing, or Yahoo!. Copy the capsule of the first organic result and the 20th organic result. Take web results only (i.e., not video results), and skip sponsored results. \n",
    "- b.\tRun the same text similarity calculation that you used for question 1b on each of these capsules in comparison to the original query (book title). \n",
    "- c.\tWhich one has the highest similarity measure? \n",
    "Submit all of your inputs and outputs and your code for this assignment, along with a brief written explanation of your findings. \n"
   ]
  },
  {
   "cell_type": "code",
   "execution_count": 80,
   "metadata": {},
   "outputs": [],
   "source": [
    "# Entered the following book into Google\n",
    "book_ = [\"Whose Boat Is This Boat?: Comments That Don't Help in the Aftermath of a Hurricane\"]"
   ]
  },
  {
   "cell_type": "code",
   "execution_count": 74,
   "metadata": {},
   "outputs": [],
   "source": [
    "capsule = [\"Editorial Reviews. About the Author. The Staff of The Late Show are bipedal mammals. ... Boat Is This Boat?: Comments That Don't Help in the Aftermath of a Hurricane eBook: The Staff of The Late Show with Stephen Colbert: Kindle Store\",\n",
    "          \"Colbert and his writing staff composed the book Whose Boat Is This Boat? Comments That Don't Help in the Aftermath of a Hurricane'It uses\"\n",
    "          ]"
   ]
  },
  {
   "cell_type": "code",
   "execution_count": 89,
   "metadata": {},
   "outputs": [
    {
     "name": "stdout",
     "output_type": "stream",
     "text": [
      "Cosine Similarity between the Book and Google Capsule #1: 0.4359729799427061\n"
     ]
    }
   ],
   "source": [
    "tfidf = get_tfidf(book_ + [capsule[0]])\n",
    "s = cosine_similarity(tfidf,tfidf)\n",
    "print('Cosine Similarity between the Book and Google Capsule #1:',s[1][0])"
   ]
  },
  {
   "cell_type": "code",
   "execution_count": 91,
   "metadata": {},
   "outputs": [
    {
     "name": "stdout",
     "output_type": "stream",
     "text": [
      "Cosine Similarity between the Book and Google Capsule #2: 0.47948881986856745\n"
     ]
    }
   ],
   "source": [
    "tfidf = get_tfidf(book_ + [capsule[1]])\n",
    "s = cosine_similarity(tfidf,tfidf)\n",
    "print('Cosine Similarity between the Book and Google Capsule #2:',s[1][0])"
   ]
  },
  {
   "cell_type": "markdown",
   "metadata": {},
   "source": [
    "For this example, the cosine similarity for the first response returned from Google actually cuts some of the title from the capsule returned. As we can see from the two scores, the cosine similarity for the first capsule returned and the book \"Whose Boat Is This Boat?: Comments That Don't Help in the Aftermath of a Hurricane\" is 0.43. The cosine similarity for the same book the and the 20th capsule returned is slightly better with a value of 0.479. As mentioned with the complete title being truncated in the first capsule would explain the lower similarity value. Also, given this is a fairly popular book (e.g. #9 Ranked Book on Amazon for 2018) the expected matches returned from Google would be relatively high. "
   ]
  }
 ],
 "metadata": {
  "anaconda-cloud": {},
  "kernelspec": {
   "display_name": "Python [default]",
   "language": "python",
   "name": "python3"
  },
  "language_info": {
   "codemirror_mode": {
    "name": "ipython",
    "version": 3
   },
   "file_extension": ".py",
   "mimetype": "text/x-python",
   "name": "python",
   "nbconvert_exporter": "python",
   "pygments_lexer": "ipython3",
   "version": "3.5.2"
  }
 },
 "nbformat": 4,
 "nbformat_minor": 2
}
